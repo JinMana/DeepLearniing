{
 "cells": [
  {
   "cell_type": "code",
   "execution_count": 3,
   "metadata": {},
   "outputs": [
    {
     "name": "stdout",
     "output_type": "stream",
     "text": [
      "[[1 2]\n",
      " [3 4]]\n",
      "(2, 2)\n"
     ]
    }
   ],
   "source": [
    "a = np.array([[1,2],[3,4]])\n",
    "print(a)\n",
    "print(a.shape)"
   ]
  },
  {
   "cell_type": "code",
   "execution_count": 4,
   "metadata": {},
   "outputs": [
    {
     "data": {
      "text/plain": [
       "array([[1, 2],\n",
       "       [3, 4]])"
      ]
     },
     "execution_count": 4,
     "metadata": {},
     "output_type": "execute_result"
    }
   ],
   "source": [
    "#参数解释pad(array, pad_width, mode, **kwargs)\n",
    "# array：需要填充的数组，例如a\n",
    "# pad_width:每个轴需要填充的数目\n",
    "# mode填充的方式\n",
    "np.pad(a, (0,0), 'constant')"
   ]
  },
  {
   "cell_type": "code",
   "execution_count": 5,
   "metadata": {},
   "outputs": [
    {
     "data": {
      "text/plain": [
       "array([[0, 0, 0, 0],\n",
       "       [0, 1, 2, 0],\n",
       "       [0, 3, 4, 0],\n",
       "       [0, 0, 0, 0]])"
      ]
     },
     "execution_count": 5,
     "metadata": {},
     "output_type": "execute_result"
    }
   ],
   "source": [
    "np.pad(a, (1,1), 'constant')"
   ]
  },
  {
   "cell_type": "code",
   "execution_count": 7,
   "metadata": {},
   "outputs": [
    {
     "name": "stdout",
     "output_type": "stream",
     "text": [
      "[[0 0 0 0 0]\n",
      " [0 1 2 0 0]\n",
      " [0 3 4 0 0]\n",
      " [0 0 0 0 0]\n",
      " [0 0 0 0 0]]\n",
      "(5, 5)\n"
     ]
    }
   ],
   "source": [
    "#第一轴的两边分别填充1和2\n",
    "k = np.pad(a, (1,2), 'constant')\n",
    "print(k)\n",
    "print(k.shape)"
   ]
  },
  {
   "cell_type": "code",
   "execution_count": 9,
   "metadata": {},
   "outputs": [
    {
     "name": "stdout",
     "output_type": "stream",
     "text": [
      "[[0 0 0 0 0]\n",
      " [0 0 0 0 0]\n",
      " [0 0 1 2 0]\n",
      " [0 0 3 4 0]\n",
      " [0 0 0 0 0]]\n",
      "(5, 5)\n"
     ]
    }
   ],
   "source": [
    "k = np.pad(a, (2,1), 'constant')\n",
    "print(k)\n",
    "print(k.shape)"
   ]
  },
  {
   "cell_type": "code",
   "execution_count": 11,
   "metadata": {},
   "outputs": [
    {
     "name": "stdout",
     "output_type": "stream",
     "text": [
      "[[0 0 0 0]\n",
      " [0 1 2 0]\n",
      " [0 3 4 0]\n",
      " [0 0 0 0]]\n",
      "(4, 4)\n"
     ]
    }
   ],
   "source": [
    "k = np.pad(a, (1,1), 'constant')\n",
    "print(k)\n",
    "print(k.shape)"
   ]
  },
  {
   "cell_type": "code",
   "execution_count": 13,
   "metadata": {},
   "outputs": [
    {
     "name": "stdout",
     "output_type": "stream",
     "text": [
      "[[0 0 0 0 0]\n",
      " [0 0 1 2 0]\n",
      " [0 0 3 4 0]\n",
      " [0 0 0 0 0]]\n",
      "(4, 5)\n"
     ]
    }
   ],
   "source": [
    "k = np.pad(a, ((1,1),(2,1)), 'constant')\n",
    "print(k)\n",
    "print(k.shape)"
   ]
  },
  {
   "cell_type": "code",
   "execution_count": 14,
   "metadata": {},
   "outputs": [
    {
     "name": "stdout",
     "output_type": "stream",
     "text": [
      "[1, 2, 3, 4, 5]\n"
     ]
    }
   ],
   "source": [
    "a = [1,2,3,4,5]\n",
    "print(a)"
   ]
  },
  {
   "cell_type": "code",
   "execution_count": 15,
   "metadata": {},
   "outputs": [
    {
     "data": {
      "text/plain": [
       "array([7, 7, 1, 2, 3, 4, 5, 8, 8, 8])"
      ]
     },
     "execution_count": 15,
     "metadata": {},
     "output_type": "execute_result"
    }
   ],
   "source": [
    "#在第一个轴上，左边填充两个7，右边填充两个8\n",
    "np.pad(a, (2,3),'constant',constant_values=(7,8))  "
   ]
  },
  {
   "cell_type": "code",
   "execution_count": 16,
   "metadata": {},
   "outputs": [
    {
     "data": {
      "text/plain": [
       "array([1, 1, 1, 2, 3, 4, 5, 5, 5, 5])"
      ]
     },
     "execution_count": 16,
     "metadata": {},
     "output_type": "execute_result"
    }
   ],
   "source": [
    "#边缘分别是1和5，左边填充2个1，右边填充3个5\n",
    "np.pad(a, (2,3), 'edge')"
   ]
  },
  {
   "cell_type": "code",
   "execution_count": 18,
   "metadata": {},
   "outputs": [
    {
     "data": {
      "text/plain": [
       "array([ 8,  4,  1,  2,  3,  4,  5,  1, -3, -7])"
      ]
     },
     "execution_count": 18,
     "metadata": {},
     "output_type": "execute_result"
    }
   ],
   "source": [
    "#以8和-8开头和结尾，其他用linear_ramp模式\n",
    "np.pad(a, (2,3), 'linear_ramp', end_values=(8,-7))"
   ]
  },
  {
   "cell_type": "code",
   "execution_count": 19,
   "metadata": {},
   "outputs": [
    {
     "data": {
      "text/plain": [
       "array([5, 5, 1, 2, 3, 4, 5, 5, 5])"
      ]
     },
     "execution_count": 19,
     "metadata": {},
     "output_type": "execute_result"
    }
   ],
   "source": [
    "#以最大值填充，分别填充2个\n",
    "np.pad(a, (2,), 'maximum')"
   ]
  },
  {
   "cell_type": "code",
   "execution_count": 20,
   "metadata": {},
   "outputs": [],
   "source": [
    "a = [[1,2],[3,4]]"
   ]
  },
  {
   "cell_type": "code",
   "execution_count": 21,
   "metadata": {},
   "outputs": [
    {
     "data": {
      "text/plain": [
       "array([[0, 0, 0, 0, 0, 0, 0],\n",
       "       [0, 0, 0, 0, 0, 0, 0],\n",
       "       [0, 0, 0, 0, 0, 0, 0],\n",
       "       [0, 0, 1, 2, 0, 0, 0],\n",
       "       [0, 0, 3, 4, 0, 0, 0],\n",
       "       [0, 0, 0, 0, 0, 0, 0],\n",
       "       [0, 0, 0, 0, 0, 0, 0]])"
      ]
     },
     "execution_count": 21,
     "metadata": {},
     "output_type": "execute_result"
    }
   ],
   "source": [
    "#上面填充3排，下面填充2排，左边填充2列，右边填充3列\n",
    "np.pad(a, ((3,2), (2,3)), 'constant')"
   ]
  },
  {
   "cell_type": "markdown",
   "metadata": {},
   "source": [
    "采用np进行分块"
   ]
  },
  {
   "cell_type": "code",
   "execution_count": 22,
   "metadata": {},
   "outputs": [
    {
     "name": "stdout",
     "output_type": "stream",
     "text": [
      "(9, 9)\n"
     ]
    }
   ],
   "source": [
    "sudoku = np.array([   \n",
    "    [2, 8, 7, 1, 6, 5, 9, 4, 3],\n",
    "    [9, 5, 4, 7, 3, 2, 1, 6, 8],\n",
    "    [6, 1, 3, 8, 4, 9, 7, 5, 2],\n",
    "    [8, 7, 9, 6, 5, 1, 2, 3, 4],\n",
    "    [4, 2, 1, 3, 9, 8, 6, 7, 5],\n",
    "    [3, 6, 5, 4, 2, 7, 8, 9, 1],\n",
    "    [1, 9, 8, 5, 7, 3, 4, 2, 6],\n",
    "    [5, 4, 2, 9, 1, 6, 3, 8, 7],\n",
    "    [7, 3, 6, 2, 8, 4, 5, 1, 9]\n",
    "])\n",
    "print(sudoku.shape)"
   ]
  },
  {
   "cell_type": "code",
   "execution_count": 23,
   "metadata": {},
   "outputs": [],
   "source": [
    "shape = (3,3,3,3)"
   ]
  },
  {
   "cell_type": "code",
   "execution_count": 25,
   "metadata": {},
   "outputs": [
    {
     "data": {
      "text/plain": [
       "4"
      ]
     },
     "execution_count": 25,
     "metadata": {},
     "output_type": "execute_result"
    }
   ],
   "source": [
    "sudoku.itemsize"
   ]
  },
  {
   "cell_type": "code",
   "execution_count": 26,
   "metadata": {},
   "outputs": [
    {
     "name": "stdout",
     "output_type": "stream",
     "text": [
      "[108  12  36   4]\n"
     ]
    }
   ],
   "source": [
    "#大行隔27个元素，大列隔3个元素\n",
    "#小行隔9个元素，小列隔1个元素\n",
    "strides = sudoku.itemsize*np.array([27, 3, 9, 1])\n",
    "print(strides)"
   ]
  },
  {
   "cell_type": "code",
   "execution_count": 36,
   "metadata": {},
   "outputs": [
    {
     "name": "stdout",
     "output_type": "stream",
     "text": [
      "[[[[2 8 7]\n",
      "   [9 5 4]\n",
      "   [6 1 3]]\n",
      "\n",
      "  [[1 6 5]\n",
      "   [7 3 2]\n",
      "   [8 4 9]]\n",
      "\n",
      "  [[9 4 3]\n",
      "   [1 6 8]\n",
      "   [7 5 2]]]\n",
      "\n",
      "\n",
      " [[[8 7 9]\n",
      "   [4 2 1]\n",
      "   [3 6 5]]\n",
      "\n",
      "  [[6 5 1]\n",
      "   [3 9 8]\n",
      "   [4 2 7]]\n",
      "\n",
      "  [[2 3 4]\n",
      "   [6 7 5]\n",
      "   [8 9 1]]]\n",
      "\n",
      "\n",
      " [[[1 9 8]\n",
      "   [5 4 2]\n",
      "   [7 3 6]]\n",
      "\n",
      "  [[5 7 3]\n",
      "   [9 1 6]\n",
      "   [2 8 4]]\n",
      "\n",
      "  [[4 2 6]\n",
      "   [3 8 7]\n",
      "   [5 1 9]]]]\n",
      "(3, 3, 3, 3)\n",
      "<class 'numpy.ndarray'>\n"
     ]
    }
   ],
   "source": [
    "#np.lib.stride_tricks.as_strided按shape对一个矩阵切块\n",
    "s = np.lib.stride_tricks.as_strided(sudoku, shape=shape, strides=strides)\n",
    "print(s)\n",
    "print(s.shape)\n",
    "print(type(s))"
   ]
  },
  {
   "cell_type": "code",
   "execution_count": 37,
   "metadata": {},
   "outputs": [
    {
     "name": "stdout",
     "output_type": "stream",
     "text": [
      "[[[[2 8 7]\n",
      "   [9 5 4]\n",
      "   [6 1 3]]\n",
      "\n",
      "  [[1 6 5]\n",
      "   [7 3 2]\n",
      "   [8 4 9]]\n",
      "\n",
      "  [[9 4 3]\n",
      "   [1 6 8]\n",
      "   [7 5 2]]]\n",
      "\n",
      "\n",
      " [[[8 7 9]\n",
      "   [4 2 1]\n",
      "   [3 6 5]]\n",
      "\n",
      "  [[6 5 1]\n",
      "   [3 9 8]\n",
      "   [4 2 7]]\n",
      "\n",
      "  [[2 3 4]\n",
      "   [6 7 5]\n",
      "   [8 9 1]]]\n",
      "\n",
      "\n",
      " [[[1 9 8]\n",
      "   [5 4 2]\n",
      "   [7 3 6]]\n",
      "\n",
      "  [[5 7 3]\n",
      "   [9 1 6]\n",
      "   [2 8 4]]\n",
      "\n",
      "  [[4 2 6]\n",
      "   [3 8 7]\n",
      "   [5 1 9]]]]\n",
      "(3, 3, 3, 3)\n",
      "<class 'numpy.ndarray'>\n"
     ]
    }
   ],
   "source": [
    "#np.ascontiguousarray返回一个地址连续的数组\n",
    "t = np.ascontiguousarray(s)\n",
    "print(t)\n",
    "print(t.shape)\n",
    "print(type(t))"
   ]
  }
 ],
 "metadata": {
  "kernelspec": {
   "display_name": "Python 3",
   "language": "python",
   "name": "python3"
  },
  "language_info": {
   "codemirror_mode": {
    "name": "ipython",
    "version": 3
   },
   "file_extension": ".py",
   "mimetype": "text/x-python",
   "name": "python",
   "nbconvert_exporter": "python",
   "pygments_lexer": "ipython3",
   "version": "3.7.0"
  }
 },
 "nbformat": 4,
 "nbformat_minor": 2
}
